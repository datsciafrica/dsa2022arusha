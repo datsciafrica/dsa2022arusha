{
 "cells": [
  {
   "cell_type": "markdown",
   "id": "ca4da3d6",
   "metadata": {},
   "source": [
    "# INTRODUCTION TO BASH"
   ]
  },
  {
   "cell_type": "markdown",
   "id": "d0b346e1",
   "metadata": {},
   "source": [
    "## WHAT IS BASH?\n",
    "**Bash** is a unix shell and command language written by Brian Fox for the GNU project as a free software replacement for the Bourne shell. It was one of the first programs to be ported to Linux by Linus Trovaldis.\n",
    "\n",
    "A **shell** is a computer program which exposes an operating systems's services to a human user or other programs via a command line interface (CLI) or graphical user interface (GUI)\n",
    "\n",
    "Bash is **POSIX**(Portable Operating System Interface) compliant, which makes it usable with minimum alteration on most Linux and Unix based operating systems.\n",
    "\n",
    "## INSTALLING BASH KERNEL FOR JUPYTER\n",
    "For the sake of this tutorial, we shall use bash in a notebook. It will limit functionality but will serve purpose of introducing new users to basics of bash\n",
    "1. Install the bash_kernel using pip\n",
    " **pip3 install bash_kernel**\n",
    "2. self installer\n",
    " **python3 -m bash_kernel.install**"
   ]
  },
  {
   "cell_type": "markdown",
   "id": "8923e2ae",
   "metadata": {},
   "source": [
    "## File or system navigation"
   ]
  },
  {
   "cell_type": "code",
   "execution_count": null,
   "id": "4fd558c0",
   "metadata": {},
   "outputs": [],
   "source": [
    "#lets start from home directory/folder (change directory)\n",
    "\n",
    "cd ~"
   ]
  },
  {
   "cell_type": "code",
   "execution_count": null,
   "id": "1839bfdb",
   "metadata": {},
   "outputs": [],
   "source": [
    "#lets see in which folder we are (print working directory)\n",
    "\n",
    "pwd"
   ]
  },
  {
   "cell_type": "code",
   "execution_count": null,
   "id": "a276ee01",
   "metadata": {},
   "outputs": [],
   "source": [
    "#see whats in the folder\n",
    "\n",
    "ls"
   ]
  },
  {
   "cell_type": "code",
   "execution_count": null,
   "id": "0ddeb8f6",
   "metadata": {
    "scrolled": true
   },
   "outputs": [],
   "source": [
    "#check file system disk usage\n",
    "\n",
    "df -h"
   ]
  },
  {
   "cell_type": "code",
   "execution_count": null,
   "id": "c3682835",
   "metadata": {},
   "outputs": [],
   "source": [
    "# disk usage. See how much space each file on system is consuming\n",
    "\n",
    "du -h"
   ]
  },
  {
   "cell_type": "code",
   "execution_count": null,
   "id": "5763d04e",
   "metadata": {
    "scrolled": false
   },
   "outputs": [],
   "source": [
    "#check the calendar\n",
    "\n",
    "cal"
   ]
  },
  {
   "cell_type": "code",
   "execution_count": null,
   "id": "0ed55c32",
   "metadata": {},
   "outputs": [],
   "source": [
    "# date and time\n",
    "\n",
    "date"
   ]
  },
  {
   "cell_type": "code",
   "execution_count": null,
   "id": "2fb9a3f3",
   "metadata": {},
   "outputs": [],
   "source": [
    "# who am I?\n",
    "\n",
    "whoami"
   ]
  },
  {
   "cell_type": "code",
   "execution_count": null,
   "id": "3a658e91",
   "metadata": {},
   "outputs": [],
   "source": [
    "# which other users are configured\n",
    "\n",
    "users"
   ]
  },
  {
   "cell_type": "markdown",
   "id": "d4ea6e0c",
   "metadata": {},
   "source": [
    "## Variables"
   ]
  },
  {
   "cell_type": "code",
   "execution_count": null,
   "id": "4e21c227",
   "metadata": {},
   "outputs": [],
   "source": [
    "my_cal=$(cal)"
   ]
  },
  {
   "cell_type": "code",
   "execution_count": null,
   "id": "c526a7bd",
   "metadata": {},
   "outputs": [],
   "source": [
    "echo $my_cal"
   ]
  },
  {
   "cell_type": "code",
   "execution_count": null,
   "id": "c5be2080",
   "metadata": {},
   "outputs": [],
   "source": [
    "jina=\"Pius Mugagga\"\n",
    "echo \"jina lako ni $jina\""
   ]
  },
  {
   "cell_type": "markdown",
   "id": "8227bfff",
   "metadata": {},
   "source": [
    "## Brace Expansion, Globing and more file navigation and manipulation"
   ]
  },
  {
   "cell_type": "code",
   "execution_count": null,
   "id": "b30a5328",
   "metadata": {},
   "outputs": [],
   "source": [
    "echo {b,c,d,f,g,h,j,k,l,m,n,p,r,s,t,v,w,x,y,z}{a,e,i,o,u}"
   ]
  },
  {
   "cell_type": "code",
   "execution_count": null,
   "id": "beafea02",
   "metadata": {},
   "outputs": [],
   "source": [
    "echo {a..z}"
   ]
  },
  {
   "cell_type": "code",
   "execution_count": null,
   "id": "f89d86d3",
   "metadata": {},
   "outputs": [],
   "source": [
    "echo {0,1}{0,1}{0,1}"
   ]
  },
  {
   "cell_type": "code",
   "execution_count": null,
   "id": "6148168c",
   "metadata": {},
   "outputs": [],
   "source": [
    "pwd"
   ]
  },
  {
   "cell_type": "code",
   "execution_count": null,
   "id": "7051a9cb",
   "metadata": {},
   "outputs": [],
   "source": [
    "rm -r dsa2022_bash_folder"
   ]
  },
  {
   "cell_type": "code",
   "execution_count": null,
   "id": "e4d83c96",
   "metadata": {
    "scrolled": false
   },
   "outputs": [],
   "source": [
    "mkdir dsa2022_bash_folder"
   ]
  },
  {
   "cell_type": "code",
   "execution_count": null,
   "id": "8bd9c480",
   "metadata": {},
   "outputs": [],
   "source": [
    "cd dsa2022_bash_folder"
   ]
  },
  {
   "cell_type": "code",
   "execution_count": null,
   "id": "8613aee4",
   "metadata": {},
   "outputs": [],
   "source": [
    "pwd"
   ]
  },
  {
   "cell_type": "code",
   "execution_count": null,
   "id": "22fdd64b",
   "metadata": {},
   "outputs": [],
   "source": [
    "#globe expansion. remove all files in this folder\n",
    "\n",
    "rm *"
   ]
  },
  {
   "cell_type": "code",
   "execution_count": null,
   "id": "e61ea5ad",
   "metadata": {},
   "outputs": [],
   "source": [
    "# lets generate some files\n",
    "\n",
    "touch $(echo {b,c,d,f,g}{a,e,i,o,u}{q..z}.{txt,jpeg,mp3})"
   ]
  },
  {
   "cell_type": "code",
   "execution_count": null,
   "id": "ce92d84f",
   "metadata": {},
   "outputs": [],
   "source": [
    "#lets check for files created. Try some globing e.g ls *.txt\n",
    "\n",
    "ls "
   ]
  },
  {
   "cell_type": "code",
   "execution_count": null,
   "id": "b65a4231",
   "metadata": {},
   "outputs": [],
   "source": [
    "# lets count the total number of files\n",
    "\n",
    "ls | wc -l"
   ]
  },
  {
   "cell_type": "code",
   "execution_count": null,
   "id": "15766391",
   "metadata": {},
   "outputs": [],
   "source": [
    "# keeping our Hello world tradition\n",
    "\n",
    "echo \"Salamu Dunia\" > guy.txt"
   ]
  },
  {
   "cell_type": "code",
   "execution_count": null,
   "id": "7bcfaaf0",
   "metadata": {},
   "outputs": [],
   "source": [
    "cat guy.txt"
   ]
  },
  {
   "cell_type": "code",
   "execution_count": null,
   "id": "5952ab4e",
   "metadata": {},
   "outputs": [],
   "source": [
    "# add a new line to a file at the bottom\n",
    "\n",
    "echo \"jina langu ni $jina\" >> guy.txt"
   ]
  },
  {
   "cell_type": "code",
   "execution_count": null,
   "id": "4ced4df8",
   "metadata": {},
   "outputs": [],
   "source": [
    "cat guy.txt"
   ]
  },
  {
   "cell_type": "code",
   "execution_count": null,
   "id": "0e4d07ce",
   "metadata": {},
   "outputs": [],
   "source": [
    "#more text\n",
    "\n",
    "echo \"nipo Arusha kwa dsa. Ninatoka Kampala, ambako kuna joto sana. Arusha kuna baridi. kuna mchele mzuri Arusha. Arusha ni nzuri\" >> guy.txt"
   ]
  },
  {
   "cell_type": "code",
   "execution_count": null,
   "id": "1821f2a4",
   "metadata": {},
   "outputs": [],
   "source": [
    "cat guy.txt"
   ]
  },
  {
   "cell_type": "code",
   "execution_count": null,
   "id": "364415b4",
   "metadata": {},
   "outputs": [],
   "source": [
    "grep -o -E '\\w+' guy.txt "
   ]
  },
  {
   "cell_type": "code",
   "execution_count": null,
   "id": "a32e6ed2",
   "metadata": {},
   "outputs": [],
   "source": [
    "grep -o -E '\\w+' guy.txt | sort -h"
   ]
  },
  {
   "cell_type": "code",
   "execution_count": null,
   "id": "8226d911",
   "metadata": {},
   "outputs": [],
   "source": [
    "# word frequency\n",
    "\n",
    "grep -o -E '\\w+' guy.txt | sort -h | uniq -c"
   ]
  },
  {
   "cell_type": "markdown",
   "id": "cec9183a",
   "metadata": {},
   "source": [
    "## Arithmetic evaluation and flow control"
   ]
  },
  {
   "cell_type": "code",
   "execution_count": null,
   "id": "14920774",
   "metadata": {},
   "outputs": [],
   "source": [
    "# lets make some more folders\n",
    "\n",
    "mkdir txts jpegs mp3s"
   ]
  },
  {
   "cell_type": "code",
   "execution_count": null,
   "id": "595372c1",
   "metadata": {},
   "outputs": [],
   "source": [
    "# lets make some more files\n",
    "\n",
    "touch $(echo {b,c,d,}{a,e}{q..z}{i,o}.{txt,jpeg,mp3})"
   ]
  },
  {
   "cell_type": "code",
   "execution_count": null,
   "id": "678930a4",
   "metadata": {},
   "outputs": [],
   "source": [
    "#find files older or younger than xmins (+6 = older, -6 = newer)\n",
    "find . -type f -mmin -6 -exec basename {} \\;"
   ]
  },
  {
   "cell_type": "code",
   "execution_count": null,
   "id": "b20f03be",
   "metadata": {},
   "outputs": [],
   "source": [
    "txts=0\n",
    "jpegs=0\n",
    "mp3s=0\n",
    "\n",
    "\n",
    "for file_name in $(ls);\n",
    "do\n",
    "echo $file_name;\n",
    "if [[ $file_name =~ '.txt' ]]\n",
    "then\n",
    "txts=$(( $txts + 1 ));\n",
    "echo \"$txts text file\";\n",
    "fi\n",
    "done\n"
   ]
  },
  {
   "cell_type": "code",
   "execution_count": null,
   "id": "a0d4667d",
   "metadata": {},
   "outputs": [],
   "source": [
    "mv *txt txts"
   ]
  },
  {
   "cell_type": "code",
   "execution_count": null,
   "id": "3fae2a2d",
   "metadata": {},
   "outputs": [],
   "source": [
    "ls txts | wc -l"
   ]
  },
  {
   "cell_type": "code",
   "execution_count": null,
   "id": "879f5e46",
   "metadata": {},
   "outputs": [],
   "source": []
  }
 ],
 "metadata": {
  "kernelspec": {
   "display_name": "Bash",
   "language": "bash",
   "name": "bash"
  },
  "language_info": {
   "codemirror_mode": "shell",
   "file_extension": ".sh",
   "mimetype": "text/x-sh",
   "name": "bash"
  }
 },
 "nbformat": 4,
 "nbformat_minor": 5
}
